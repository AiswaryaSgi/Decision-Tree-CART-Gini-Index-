{
  "nbformat": 4,
  "nbformat_minor": 0,
  "metadata": {
    "colab": {
      "provenance": [],
      "authorship_tag": "ABX9TyMlSQu5r//v5MN9HyOifKxi",
      "include_colab_link": true
    },
    "kernelspec": {
      "name": "python3",
      "display_name": "Python 3"
    },
    "language_info": {
      "name": "python"
    }
  },
  "cells": [
    {
      "cell_type": "markdown",
      "metadata": {
        "id": "view-in-github",
        "colab_type": "text"
      },
      "source": [
        "<a href=\"https://colab.research.google.com/github/AiswaryaSgi/Decision-Tree-CART-Gini-Index-/blob/main/ML_Assignment1.ipynb\" target=\"_parent\"><img src=\"https://colab.research.google.com/assets/colab-badge.svg\" alt=\"Open In Colab\"/></a>"
      ]
    },
    {
      "cell_type": "markdown",
      "source": [
        "#Import Modules"
      ],
      "metadata": {
        "id": "2H9zX30Tzpdc"
      }
    },
    {
      "cell_type": "code",
      "execution_count": null,
      "metadata": {
        "id": "h1CUbY7oUOFr"
      },
      "outputs": [],
      "source": [
        "import numpy as np\n",
        "import pandas as pd\n",
        "import matplotlib.pyplot as plt\n",
        "import seaborn as sns\n",
        "from sklearn.model_selection import train_test_split\n",
        "from sklearn.preprocessing import StandardScaler\n",
        "from sklearn.tree import DecisionTreeClassifier\n",
        "from sklearn.metrics import confusion_matrix\n",
        "from sklearn.tree import export_graphviz\n",
        "import graphviz"
      ]
    },
    {
      "cell_type": "markdown",
      "source": [
        "#Read the csv file"
      ],
      "metadata": {
        "id": "uOWR0vyPz4M4"
      }
    },
    {
      "cell_type": "code",
      "source": [
        "df=pd.read_csv(\"Cryotherapy.csv\")"
      ],
      "metadata": {
        "id": "OaieAE0oroz_"
      },
      "execution_count": null,
      "outputs": []
    },
    {
      "cell_type": "markdown",
      "source": [
        "#Perform EDA"
      ],
      "metadata": {
        "id": "se7CMQK0z-Uy"
      }
    },
    {
      "cell_type": "code",
      "source": [
        "df.head()"
      ],
      "metadata": {
        "colab": {
          "base_uri": "https://localhost:8080/",
          "height": 206
        },
        "id": "qyy19LW6sL4T",
        "outputId": "d4651bc4-8429-4671-bdfe-26280348b541"
      },
      "execution_count": null,
      "outputs": [
        {
          "output_type": "execute_result",
          "data": {
            "text/plain": [
              "   sex  age   Time  Number_of_Warts  Type  Area  Result_of_Treatment\n",
              "0    1   35  12.00                5     1   100                    0\n",
              "1    1   29   7.00                5     1    96                    1\n",
              "2    1   50   8.00                1     3   132                    0\n",
              "3    1   32  11.75                7     3   750                    0\n",
              "4    1   67   9.25                1     1    42                    0"
            ],
            "text/html": [
              "\n",
              "  <div id=\"df-ddf63069-77b4-45ca-b87f-a1a50448cfa2\">\n",
              "    <div class=\"colab-df-container\">\n",
              "      <div>\n",
              "<style scoped>\n",
              "    .dataframe tbody tr th:only-of-type {\n",
              "        vertical-align: middle;\n",
              "    }\n",
              "\n",
              "    .dataframe tbody tr th {\n",
              "        vertical-align: top;\n",
              "    }\n",
              "\n",
              "    .dataframe thead th {\n",
              "        text-align: right;\n",
              "    }\n",
              "</style>\n",
              "<table border=\"1\" class=\"dataframe\">\n",
              "  <thead>\n",
              "    <tr style=\"text-align: right;\">\n",
              "      <th></th>\n",
              "      <th>sex</th>\n",
              "      <th>age</th>\n",
              "      <th>Time</th>\n",
              "      <th>Number_of_Warts</th>\n",
              "      <th>Type</th>\n",
              "      <th>Area</th>\n",
              "      <th>Result_of_Treatment</th>\n",
              "    </tr>\n",
              "  </thead>\n",
              "  <tbody>\n",
              "    <tr>\n",
              "      <th>0</th>\n",
              "      <td>1</td>\n",
              "      <td>35</td>\n",
              "      <td>12.00</td>\n",
              "      <td>5</td>\n",
              "      <td>1</td>\n",
              "      <td>100</td>\n",
              "      <td>0</td>\n",
              "    </tr>\n",
              "    <tr>\n",
              "      <th>1</th>\n",
              "      <td>1</td>\n",
              "      <td>29</td>\n",
              "      <td>7.00</td>\n",
              "      <td>5</td>\n",
              "      <td>1</td>\n",
              "      <td>96</td>\n",
              "      <td>1</td>\n",
              "    </tr>\n",
              "    <tr>\n",
              "      <th>2</th>\n",
              "      <td>1</td>\n",
              "      <td>50</td>\n",
              "      <td>8.00</td>\n",
              "      <td>1</td>\n",
              "      <td>3</td>\n",
              "      <td>132</td>\n",
              "      <td>0</td>\n",
              "    </tr>\n",
              "    <tr>\n",
              "      <th>3</th>\n",
              "      <td>1</td>\n",
              "      <td>32</td>\n",
              "      <td>11.75</td>\n",
              "      <td>7</td>\n",
              "      <td>3</td>\n",
              "      <td>750</td>\n",
              "      <td>0</td>\n",
              "    </tr>\n",
              "    <tr>\n",
              "      <th>4</th>\n",
              "      <td>1</td>\n",
              "      <td>67</td>\n",
              "      <td>9.25</td>\n",
              "      <td>1</td>\n",
              "      <td>1</td>\n",
              "      <td>42</td>\n",
              "      <td>0</td>\n",
              "    </tr>\n",
              "  </tbody>\n",
              "</table>\n",
              "</div>\n",
              "      <button class=\"colab-df-convert\" onclick=\"convertToInteractive('df-ddf63069-77b4-45ca-b87f-a1a50448cfa2')\"\n",
              "              title=\"Convert this dataframe to an interactive table.\"\n",
              "              style=\"display:none;\">\n",
              "        \n",
              "  <svg xmlns=\"http://www.w3.org/2000/svg\" height=\"24px\"viewBox=\"0 0 24 24\"\n",
              "       width=\"24px\">\n",
              "    <path d=\"M0 0h24v24H0V0z\" fill=\"none\"/>\n",
              "    <path d=\"M18.56 5.44l.94 2.06.94-2.06 2.06-.94-2.06-.94-.94-2.06-.94 2.06-2.06.94zm-11 1L8.5 8.5l.94-2.06 2.06-.94-2.06-.94L8.5 2.5l-.94 2.06-2.06.94zm10 10l.94 2.06.94-2.06 2.06-.94-2.06-.94-.94-2.06-.94 2.06-2.06.94z\"/><path d=\"M17.41 7.96l-1.37-1.37c-.4-.4-.92-.59-1.43-.59-.52 0-1.04.2-1.43.59L10.3 9.45l-7.72 7.72c-.78.78-.78 2.05 0 2.83L4 21.41c.39.39.9.59 1.41.59.51 0 1.02-.2 1.41-.59l7.78-7.78 2.81-2.81c.8-.78.8-2.07 0-2.86zM5.41 20L4 18.59l7.72-7.72 1.47 1.35L5.41 20z\"/>\n",
              "  </svg>\n",
              "      </button>\n",
              "      \n",
              "  <style>\n",
              "    .colab-df-container {\n",
              "      display:flex;\n",
              "      flex-wrap:wrap;\n",
              "      gap: 12px;\n",
              "    }\n",
              "\n",
              "    .colab-df-convert {\n",
              "      background-color: #E8F0FE;\n",
              "      border: none;\n",
              "      border-radius: 50%;\n",
              "      cursor: pointer;\n",
              "      display: none;\n",
              "      fill: #1967D2;\n",
              "      height: 32px;\n",
              "      padding: 0 0 0 0;\n",
              "      width: 32px;\n",
              "    }\n",
              "\n",
              "    .colab-df-convert:hover {\n",
              "      background-color: #E2EBFA;\n",
              "      box-shadow: 0px 1px 2px rgba(60, 64, 67, 0.3), 0px 1px 3px 1px rgba(60, 64, 67, 0.15);\n",
              "      fill: #174EA6;\n",
              "    }\n",
              "\n",
              "    [theme=dark] .colab-df-convert {\n",
              "      background-color: #3B4455;\n",
              "      fill: #D2E3FC;\n",
              "    }\n",
              "\n",
              "    [theme=dark] .colab-df-convert:hover {\n",
              "      background-color: #434B5C;\n",
              "      box-shadow: 0px 1px 3px 1px rgba(0, 0, 0, 0.15);\n",
              "      filter: drop-shadow(0px 1px 2px rgba(0, 0, 0, 0.3));\n",
              "      fill: #FFFFFF;\n",
              "    }\n",
              "  </style>\n",
              "\n",
              "      <script>\n",
              "        const buttonEl =\n",
              "          document.querySelector('#df-ddf63069-77b4-45ca-b87f-a1a50448cfa2 button.colab-df-convert');\n",
              "        buttonEl.style.display =\n",
              "          google.colab.kernel.accessAllowed ? 'block' : 'none';\n",
              "\n",
              "        async function convertToInteractive(key) {\n",
              "          const element = document.querySelector('#df-ddf63069-77b4-45ca-b87f-a1a50448cfa2');\n",
              "          const dataTable =\n",
              "            await google.colab.kernel.invokeFunction('convertToInteractive',\n",
              "                                                     [key], {});\n",
              "          if (!dataTable) return;\n",
              "\n",
              "          const docLinkHtml = 'Like what you see? Visit the ' +\n",
              "            '<a target=\"_blank\" href=https://colab.research.google.com/notebooks/data_table.ipynb>data table notebook</a>'\n",
              "            + ' to learn more about interactive tables.';\n",
              "          element.innerHTML = '';\n",
              "          dataTable['output_type'] = 'display_data';\n",
              "          await google.colab.output.renderOutput(dataTable, element);\n",
              "          const docLink = document.createElement('div');\n",
              "          docLink.innerHTML = docLinkHtml;\n",
              "          element.appendChild(docLink);\n",
              "        }\n",
              "      </script>\n",
              "    </div>\n",
              "  </div>\n",
              "  "
            ]
          },
          "metadata": {},
          "execution_count": 3
        }
      ]
    },
    {
      "cell_type": "code",
      "source": [
        "df.info()"
      ],
      "metadata": {
        "colab": {
          "base_uri": "https://localhost:8080/"
        },
        "id": "SUdRPI0jsXd9",
        "outputId": "161ac382-31a2-41a8-b974-9d487484c6f7"
      },
      "execution_count": null,
      "outputs": [
        {
          "output_type": "stream",
          "name": "stdout",
          "text": [
            "<class 'pandas.core.frame.DataFrame'>\n",
            "RangeIndex: 90 entries, 0 to 89\n",
            "Data columns (total 7 columns):\n",
            " #   Column               Non-Null Count  Dtype  \n",
            "---  ------               --------------  -----  \n",
            " 0   sex                  90 non-null     int64  \n",
            " 1   age                  90 non-null     int64  \n",
            " 2   Time                 90 non-null     float64\n",
            " 3   Number_of_Warts      90 non-null     int64  \n",
            " 4   Type                 90 non-null     int64  \n",
            " 5   Area                 90 non-null     int64  \n",
            " 6   Result_of_Treatment  90 non-null     int64  \n",
            "dtypes: float64(1), int64(6)\n",
            "memory usage: 5.0 KB\n"
          ]
        }
      ]
    },
    {
      "cell_type": "code",
      "source": [
        "df.describe()"
      ],
      "metadata": {
        "colab": {
          "base_uri": "https://localhost:8080/",
          "height": 300
        },
        "id": "KYh0Dkz_sZ1z",
        "outputId": "93e3bc76-81d2-4c57-ad47-fc4edffb663c"
      },
      "execution_count": null,
      "outputs": [
        {
          "output_type": "execute_result",
          "data": {
            "text/plain": [
              "             sex        age       Time  Number_of_Warts       Type  \\\n",
              "count  90.000000  90.000000  90.000000        90.000000  90.000000   \n",
              "mean    1.477778  28.600000   7.666667         5.511111   1.700000   \n",
              "std     0.502304  13.360852   3.406661         3.567155   0.905042   \n",
              "min     1.000000  15.000000   0.250000         1.000000   1.000000   \n",
              "25%     1.000000  18.000000   4.562500         2.000000   1.000000   \n",
              "50%     1.000000  25.500000   8.500000         5.000000   1.000000   \n",
              "75%     2.000000  35.000000  10.687500         8.000000   3.000000   \n",
              "max     2.000000  67.000000  12.000000        12.000000   3.000000   \n",
              "\n",
              "             Area  Result_of_Treatment  \n",
              "count   90.000000            90.000000  \n",
              "mean    85.833333             0.533333  \n",
              "std    131.733153             0.501683  \n",
              "min      4.000000             0.000000  \n",
              "25%     20.000000             0.000000  \n",
              "50%     70.000000             1.000000  \n",
              "75%    100.000000             1.000000  \n",
              "max    750.000000             1.000000  "
            ],
            "text/html": [
              "\n",
              "  <div id=\"df-6fea81e7-5076-4fb7-9fe7-c3c5235a7945\">\n",
              "    <div class=\"colab-df-container\">\n",
              "      <div>\n",
              "<style scoped>\n",
              "    .dataframe tbody tr th:only-of-type {\n",
              "        vertical-align: middle;\n",
              "    }\n",
              "\n",
              "    .dataframe tbody tr th {\n",
              "        vertical-align: top;\n",
              "    }\n",
              "\n",
              "    .dataframe thead th {\n",
              "        text-align: right;\n",
              "    }\n",
              "</style>\n",
              "<table border=\"1\" class=\"dataframe\">\n",
              "  <thead>\n",
              "    <tr style=\"text-align: right;\">\n",
              "      <th></th>\n",
              "      <th>sex</th>\n",
              "      <th>age</th>\n",
              "      <th>Time</th>\n",
              "      <th>Number_of_Warts</th>\n",
              "      <th>Type</th>\n",
              "      <th>Area</th>\n",
              "      <th>Result_of_Treatment</th>\n",
              "    </tr>\n",
              "  </thead>\n",
              "  <tbody>\n",
              "    <tr>\n",
              "      <th>count</th>\n",
              "      <td>90.000000</td>\n",
              "      <td>90.000000</td>\n",
              "      <td>90.000000</td>\n",
              "      <td>90.000000</td>\n",
              "      <td>90.000000</td>\n",
              "      <td>90.000000</td>\n",
              "      <td>90.000000</td>\n",
              "    </tr>\n",
              "    <tr>\n",
              "      <th>mean</th>\n",
              "      <td>1.477778</td>\n",
              "      <td>28.600000</td>\n",
              "      <td>7.666667</td>\n",
              "      <td>5.511111</td>\n",
              "      <td>1.700000</td>\n",
              "      <td>85.833333</td>\n",
              "      <td>0.533333</td>\n",
              "    </tr>\n",
              "    <tr>\n",
              "      <th>std</th>\n",
              "      <td>0.502304</td>\n",
              "      <td>13.360852</td>\n",
              "      <td>3.406661</td>\n",
              "      <td>3.567155</td>\n",
              "      <td>0.905042</td>\n",
              "      <td>131.733153</td>\n",
              "      <td>0.501683</td>\n",
              "    </tr>\n",
              "    <tr>\n",
              "      <th>min</th>\n",
              "      <td>1.000000</td>\n",
              "      <td>15.000000</td>\n",
              "      <td>0.250000</td>\n",
              "      <td>1.000000</td>\n",
              "      <td>1.000000</td>\n",
              "      <td>4.000000</td>\n",
              "      <td>0.000000</td>\n",
              "    </tr>\n",
              "    <tr>\n",
              "      <th>25%</th>\n",
              "      <td>1.000000</td>\n",
              "      <td>18.000000</td>\n",
              "      <td>4.562500</td>\n",
              "      <td>2.000000</td>\n",
              "      <td>1.000000</td>\n",
              "      <td>20.000000</td>\n",
              "      <td>0.000000</td>\n",
              "    </tr>\n",
              "    <tr>\n",
              "      <th>50%</th>\n",
              "      <td>1.000000</td>\n",
              "      <td>25.500000</td>\n",
              "      <td>8.500000</td>\n",
              "      <td>5.000000</td>\n",
              "      <td>1.000000</td>\n",
              "      <td>70.000000</td>\n",
              "      <td>1.000000</td>\n",
              "    </tr>\n",
              "    <tr>\n",
              "      <th>75%</th>\n",
              "      <td>2.000000</td>\n",
              "      <td>35.000000</td>\n",
              "      <td>10.687500</td>\n",
              "      <td>8.000000</td>\n",
              "      <td>3.000000</td>\n",
              "      <td>100.000000</td>\n",
              "      <td>1.000000</td>\n",
              "    </tr>\n",
              "    <tr>\n",
              "      <th>max</th>\n",
              "      <td>2.000000</td>\n",
              "      <td>67.000000</td>\n",
              "      <td>12.000000</td>\n",
              "      <td>12.000000</td>\n",
              "      <td>3.000000</td>\n",
              "      <td>750.000000</td>\n",
              "      <td>1.000000</td>\n",
              "    </tr>\n",
              "  </tbody>\n",
              "</table>\n",
              "</div>\n",
              "      <button class=\"colab-df-convert\" onclick=\"convertToInteractive('df-6fea81e7-5076-4fb7-9fe7-c3c5235a7945')\"\n",
              "              title=\"Convert this dataframe to an interactive table.\"\n",
              "              style=\"display:none;\">\n",
              "        \n",
              "  <svg xmlns=\"http://www.w3.org/2000/svg\" height=\"24px\"viewBox=\"0 0 24 24\"\n",
              "       width=\"24px\">\n",
              "    <path d=\"M0 0h24v24H0V0z\" fill=\"none\"/>\n",
              "    <path d=\"M18.56 5.44l.94 2.06.94-2.06 2.06-.94-2.06-.94-.94-2.06-.94 2.06-2.06.94zm-11 1L8.5 8.5l.94-2.06 2.06-.94-2.06-.94L8.5 2.5l-.94 2.06-2.06.94zm10 10l.94 2.06.94-2.06 2.06-.94-2.06-.94-.94-2.06-.94 2.06-2.06.94z\"/><path d=\"M17.41 7.96l-1.37-1.37c-.4-.4-.92-.59-1.43-.59-.52 0-1.04.2-1.43.59L10.3 9.45l-7.72 7.72c-.78.78-.78 2.05 0 2.83L4 21.41c.39.39.9.59 1.41.59.51 0 1.02-.2 1.41-.59l7.78-7.78 2.81-2.81c.8-.78.8-2.07 0-2.86zM5.41 20L4 18.59l7.72-7.72 1.47 1.35L5.41 20z\"/>\n",
              "  </svg>\n",
              "      </button>\n",
              "      \n",
              "  <style>\n",
              "    .colab-df-container {\n",
              "      display:flex;\n",
              "      flex-wrap:wrap;\n",
              "      gap: 12px;\n",
              "    }\n",
              "\n",
              "    .colab-df-convert {\n",
              "      background-color: #E8F0FE;\n",
              "      border: none;\n",
              "      border-radius: 50%;\n",
              "      cursor: pointer;\n",
              "      display: none;\n",
              "      fill: #1967D2;\n",
              "      height: 32px;\n",
              "      padding: 0 0 0 0;\n",
              "      width: 32px;\n",
              "    }\n",
              "\n",
              "    .colab-df-convert:hover {\n",
              "      background-color: #E2EBFA;\n",
              "      box-shadow: 0px 1px 2px rgba(60, 64, 67, 0.3), 0px 1px 3px 1px rgba(60, 64, 67, 0.15);\n",
              "      fill: #174EA6;\n",
              "    }\n",
              "\n",
              "    [theme=dark] .colab-df-convert {\n",
              "      background-color: #3B4455;\n",
              "      fill: #D2E3FC;\n",
              "    }\n",
              "\n",
              "    [theme=dark] .colab-df-convert:hover {\n",
              "      background-color: #434B5C;\n",
              "      box-shadow: 0px 1px 3px 1px rgba(0, 0, 0, 0.15);\n",
              "      filter: drop-shadow(0px 1px 2px rgba(0, 0, 0, 0.3));\n",
              "      fill: #FFFFFF;\n",
              "    }\n",
              "  </style>\n",
              "\n",
              "      <script>\n",
              "        const buttonEl =\n",
              "          document.querySelector('#df-6fea81e7-5076-4fb7-9fe7-c3c5235a7945 button.colab-df-convert');\n",
              "        buttonEl.style.display =\n",
              "          google.colab.kernel.accessAllowed ? 'block' : 'none';\n",
              "\n",
              "        async function convertToInteractive(key) {\n",
              "          const element = document.querySelector('#df-6fea81e7-5076-4fb7-9fe7-c3c5235a7945');\n",
              "          const dataTable =\n",
              "            await google.colab.kernel.invokeFunction('convertToInteractive',\n",
              "                                                     [key], {});\n",
              "          if (!dataTable) return;\n",
              "\n",
              "          const docLinkHtml = 'Like what you see? Visit the ' +\n",
              "            '<a target=\"_blank\" href=https://colab.research.google.com/notebooks/data_table.ipynb>data table notebook</a>'\n",
              "            + ' to learn more about interactive tables.';\n",
              "          element.innerHTML = '';\n",
              "          dataTable['output_type'] = 'display_data';\n",
              "          await google.colab.output.renderOutput(dataTable, element);\n",
              "          const docLink = document.createElement('div');\n",
              "          docLink.innerHTML = docLinkHtml;\n",
              "          element.appendChild(docLink);\n",
              "        }\n",
              "      </script>\n",
              "    </div>\n",
              "  </div>\n",
              "  "
            ]
          },
          "metadata": {},
          "execution_count": 5
        }
      ]
    },
    {
      "cell_type": "code",
      "source": [
        "df.isnull()"
      ],
      "metadata": {
        "colab": {
          "base_uri": "https://localhost:8080/",
          "height": 423
        },
        "id": "JKhak3yWseUI",
        "outputId": "37c2a7b2-59c2-4db0-81c5-49ba32edb5b1"
      },
      "execution_count": null,
      "outputs": [
        {
          "output_type": "execute_result",
          "data": {
            "text/plain": [
              "      sex    age   Time  Number_of_Warts   Type   Area  Result_of_Treatment\n",
              "0   False  False  False            False  False  False                False\n",
              "1   False  False  False            False  False  False                False\n",
              "2   False  False  False            False  False  False                False\n",
              "3   False  False  False            False  False  False                False\n",
              "4   False  False  False            False  False  False                False\n",
              "..    ...    ...    ...              ...    ...    ...                  ...\n",
              "85  False  False  False            False  False  False                False\n",
              "86  False  False  False            False  False  False                False\n",
              "87  False  False  False            False  False  False                False\n",
              "88  False  False  False            False  False  False                False\n",
              "89  False  False  False            False  False  False                False\n",
              "\n",
              "[90 rows x 7 columns]"
            ],
            "text/html": [
              "\n",
              "  <div id=\"df-facc961c-45cb-4ac9-a422-81d94d2bf87e\">\n",
              "    <div class=\"colab-df-container\">\n",
              "      <div>\n",
              "<style scoped>\n",
              "    .dataframe tbody tr th:only-of-type {\n",
              "        vertical-align: middle;\n",
              "    }\n",
              "\n",
              "    .dataframe tbody tr th {\n",
              "        vertical-align: top;\n",
              "    }\n",
              "\n",
              "    .dataframe thead th {\n",
              "        text-align: right;\n",
              "    }\n",
              "</style>\n",
              "<table border=\"1\" class=\"dataframe\">\n",
              "  <thead>\n",
              "    <tr style=\"text-align: right;\">\n",
              "      <th></th>\n",
              "      <th>sex</th>\n",
              "      <th>age</th>\n",
              "      <th>Time</th>\n",
              "      <th>Number_of_Warts</th>\n",
              "      <th>Type</th>\n",
              "      <th>Area</th>\n",
              "      <th>Result_of_Treatment</th>\n",
              "    </tr>\n",
              "  </thead>\n",
              "  <tbody>\n",
              "    <tr>\n",
              "      <th>0</th>\n",
              "      <td>False</td>\n",
              "      <td>False</td>\n",
              "      <td>False</td>\n",
              "      <td>False</td>\n",
              "      <td>False</td>\n",
              "      <td>False</td>\n",
              "      <td>False</td>\n",
              "    </tr>\n",
              "    <tr>\n",
              "      <th>1</th>\n",
              "      <td>False</td>\n",
              "      <td>False</td>\n",
              "      <td>False</td>\n",
              "      <td>False</td>\n",
              "      <td>False</td>\n",
              "      <td>False</td>\n",
              "      <td>False</td>\n",
              "    </tr>\n",
              "    <tr>\n",
              "      <th>2</th>\n",
              "      <td>False</td>\n",
              "      <td>False</td>\n",
              "      <td>False</td>\n",
              "      <td>False</td>\n",
              "      <td>False</td>\n",
              "      <td>False</td>\n",
              "      <td>False</td>\n",
              "    </tr>\n",
              "    <tr>\n",
              "      <th>3</th>\n",
              "      <td>False</td>\n",
              "      <td>False</td>\n",
              "      <td>False</td>\n",
              "      <td>False</td>\n",
              "      <td>False</td>\n",
              "      <td>False</td>\n",
              "      <td>False</td>\n",
              "    </tr>\n",
              "    <tr>\n",
              "      <th>4</th>\n",
              "      <td>False</td>\n",
              "      <td>False</td>\n",
              "      <td>False</td>\n",
              "      <td>False</td>\n",
              "      <td>False</td>\n",
              "      <td>False</td>\n",
              "      <td>False</td>\n",
              "    </tr>\n",
              "    <tr>\n",
              "      <th>...</th>\n",
              "      <td>...</td>\n",
              "      <td>...</td>\n",
              "      <td>...</td>\n",
              "      <td>...</td>\n",
              "      <td>...</td>\n",
              "      <td>...</td>\n",
              "      <td>...</td>\n",
              "    </tr>\n",
              "    <tr>\n",
              "      <th>85</th>\n",
              "      <td>False</td>\n",
              "      <td>False</td>\n",
              "      <td>False</td>\n",
              "      <td>False</td>\n",
              "      <td>False</td>\n",
              "      <td>False</td>\n",
              "      <td>False</td>\n",
              "    </tr>\n",
              "    <tr>\n",
              "      <th>86</th>\n",
              "      <td>False</td>\n",
              "      <td>False</td>\n",
              "      <td>False</td>\n",
              "      <td>False</td>\n",
              "      <td>False</td>\n",
              "      <td>False</td>\n",
              "      <td>False</td>\n",
              "    </tr>\n",
              "    <tr>\n",
              "      <th>87</th>\n",
              "      <td>False</td>\n",
              "      <td>False</td>\n",
              "      <td>False</td>\n",
              "      <td>False</td>\n",
              "      <td>False</td>\n",
              "      <td>False</td>\n",
              "      <td>False</td>\n",
              "    </tr>\n",
              "    <tr>\n",
              "      <th>88</th>\n",
              "      <td>False</td>\n",
              "      <td>False</td>\n",
              "      <td>False</td>\n",
              "      <td>False</td>\n",
              "      <td>False</td>\n",
              "      <td>False</td>\n",
              "      <td>False</td>\n",
              "    </tr>\n",
              "    <tr>\n",
              "      <th>89</th>\n",
              "      <td>False</td>\n",
              "      <td>False</td>\n",
              "      <td>False</td>\n",
              "      <td>False</td>\n",
              "      <td>False</td>\n",
              "      <td>False</td>\n",
              "      <td>False</td>\n",
              "    </tr>\n",
              "  </tbody>\n",
              "</table>\n",
              "<p>90 rows × 7 columns</p>\n",
              "</div>\n",
              "      <button class=\"colab-df-convert\" onclick=\"convertToInteractive('df-facc961c-45cb-4ac9-a422-81d94d2bf87e')\"\n",
              "              title=\"Convert this dataframe to an interactive table.\"\n",
              "              style=\"display:none;\">\n",
              "        \n",
              "  <svg xmlns=\"http://www.w3.org/2000/svg\" height=\"24px\"viewBox=\"0 0 24 24\"\n",
              "       width=\"24px\">\n",
              "    <path d=\"M0 0h24v24H0V0z\" fill=\"none\"/>\n",
              "    <path d=\"M18.56 5.44l.94 2.06.94-2.06 2.06-.94-2.06-.94-.94-2.06-.94 2.06-2.06.94zm-11 1L8.5 8.5l.94-2.06 2.06-.94-2.06-.94L8.5 2.5l-.94 2.06-2.06.94zm10 10l.94 2.06.94-2.06 2.06-.94-2.06-.94-.94-2.06-.94 2.06-2.06.94z\"/><path d=\"M17.41 7.96l-1.37-1.37c-.4-.4-.92-.59-1.43-.59-.52 0-1.04.2-1.43.59L10.3 9.45l-7.72 7.72c-.78.78-.78 2.05 0 2.83L4 21.41c.39.39.9.59 1.41.59.51 0 1.02-.2 1.41-.59l7.78-7.78 2.81-2.81c.8-.78.8-2.07 0-2.86zM5.41 20L4 18.59l7.72-7.72 1.47 1.35L5.41 20z\"/>\n",
              "  </svg>\n",
              "      </button>\n",
              "      \n",
              "  <style>\n",
              "    .colab-df-container {\n",
              "      display:flex;\n",
              "      flex-wrap:wrap;\n",
              "      gap: 12px;\n",
              "    }\n",
              "\n",
              "    .colab-df-convert {\n",
              "      background-color: #E8F0FE;\n",
              "      border: none;\n",
              "      border-radius: 50%;\n",
              "      cursor: pointer;\n",
              "      display: none;\n",
              "      fill: #1967D2;\n",
              "      height: 32px;\n",
              "      padding: 0 0 0 0;\n",
              "      width: 32px;\n",
              "    }\n",
              "\n",
              "    .colab-df-convert:hover {\n",
              "      background-color: #E2EBFA;\n",
              "      box-shadow: 0px 1px 2px rgba(60, 64, 67, 0.3), 0px 1px 3px 1px rgba(60, 64, 67, 0.15);\n",
              "      fill: #174EA6;\n",
              "    }\n",
              "\n",
              "    [theme=dark] .colab-df-convert {\n",
              "      background-color: #3B4455;\n",
              "      fill: #D2E3FC;\n",
              "    }\n",
              "\n",
              "    [theme=dark] .colab-df-convert:hover {\n",
              "      background-color: #434B5C;\n",
              "      box-shadow: 0px 1px 3px 1px rgba(0, 0, 0, 0.15);\n",
              "      filter: drop-shadow(0px 1px 2px rgba(0, 0, 0, 0.3));\n",
              "      fill: #FFFFFF;\n",
              "    }\n",
              "  </style>\n",
              "\n",
              "      <script>\n",
              "        const buttonEl =\n",
              "          document.querySelector('#df-facc961c-45cb-4ac9-a422-81d94d2bf87e button.colab-df-convert');\n",
              "        buttonEl.style.display =\n",
              "          google.colab.kernel.accessAllowed ? 'block' : 'none';\n",
              "\n",
              "        async function convertToInteractive(key) {\n",
              "          const element = document.querySelector('#df-facc961c-45cb-4ac9-a422-81d94d2bf87e');\n",
              "          const dataTable =\n",
              "            await google.colab.kernel.invokeFunction('convertToInteractive',\n",
              "                                                     [key], {});\n",
              "          if (!dataTable) return;\n",
              "\n",
              "          const docLinkHtml = 'Like what you see? Visit the ' +\n",
              "            '<a target=\"_blank\" href=https://colab.research.google.com/notebooks/data_table.ipynb>data table notebook</a>'\n",
              "            + ' to learn more about interactive tables.';\n",
              "          element.innerHTML = '';\n",
              "          dataTable['output_type'] = 'display_data';\n",
              "          await google.colab.output.renderOutput(dataTable, element);\n",
              "          const docLink = document.createElement('div');\n",
              "          docLink.innerHTML = docLinkHtml;\n",
              "          element.appendChild(docLink);\n",
              "        }\n",
              "      </script>\n",
              "    </div>\n",
              "  </div>\n",
              "  "
            ]
          },
          "metadata": {},
          "execution_count": 6
        }
      ]
    },
    {
      "cell_type": "code",
      "source": [
        "df.isnull().sum()"
      ],
      "metadata": {
        "colab": {
          "base_uri": "https://localhost:8080/"
        },
        "id": "08psL25ushR-",
        "outputId": "6e3128eb-dcf7-4548-8acc-b73bf58119e4"
      },
      "execution_count": null,
      "outputs": [
        {
          "output_type": "execute_result",
          "data": {
            "text/plain": [
              "sex                    0\n",
              "age                    0\n",
              "Time                   0\n",
              "Number_of_Warts        0\n",
              "Type                   0\n",
              "Area                   0\n",
              "Result_of_Treatment    0\n",
              "dtype: int64"
            ]
          },
          "metadata": {},
          "execution_count": 7
        }
      ]
    },
    {
      "cell_type": "code",
      "source": [
        "df.shape"
      ],
      "metadata": {
        "colab": {
          "base_uri": "https://localhost:8080/"
        },
        "id": "HYlnlcxXsln8",
        "outputId": "65e9efb2-aadc-4a26-a465-707178911bb8"
      },
      "execution_count": null,
      "outputs": [
        {
          "output_type": "execute_result",
          "data": {
            "text/plain": [
              "(90, 7)"
            ]
          },
          "metadata": {},
          "execution_count": 8
        }
      ]
    },
    {
      "cell_type": "code",
      "source": [
        "df.tail()"
      ],
      "metadata": {
        "colab": {
          "base_uri": "https://localhost:8080/",
          "height": 206
        },
        "id": "iSqmNTbbso0y",
        "outputId": "968817a9-def0-4cd6-88be-bfb06b0de07b"
      },
      "execution_count": null,
      "outputs": [
        {
          "output_type": "execute_result",
          "data": {
            "text/plain": [
              "    sex  age   Time  Number_of_Warts  Type  Area  Result_of_Treatment\n",
              "85    2   34  12.00                3     3    95                    0\n",
              "86    2   20   3.50                6     1    75                    1\n",
              "87    2   35   8.25                8     3   100                    0\n",
              "88    1   24  10.75               10     1    20                    1\n",
              "89    1   19   8.00                8     1   160                    1"
            ],
            "text/html": [
              "\n",
              "  <div id=\"df-f23c362a-0f6f-4f33-8b34-3f7e8d78ff4f\">\n",
              "    <div class=\"colab-df-container\">\n",
              "      <div>\n",
              "<style scoped>\n",
              "    .dataframe tbody tr th:only-of-type {\n",
              "        vertical-align: middle;\n",
              "    }\n",
              "\n",
              "    .dataframe tbody tr th {\n",
              "        vertical-align: top;\n",
              "    }\n",
              "\n",
              "    .dataframe thead th {\n",
              "        text-align: right;\n",
              "    }\n",
              "</style>\n",
              "<table border=\"1\" class=\"dataframe\">\n",
              "  <thead>\n",
              "    <tr style=\"text-align: right;\">\n",
              "      <th></th>\n",
              "      <th>sex</th>\n",
              "      <th>age</th>\n",
              "      <th>Time</th>\n",
              "      <th>Number_of_Warts</th>\n",
              "      <th>Type</th>\n",
              "      <th>Area</th>\n",
              "      <th>Result_of_Treatment</th>\n",
              "    </tr>\n",
              "  </thead>\n",
              "  <tbody>\n",
              "    <tr>\n",
              "      <th>85</th>\n",
              "      <td>2</td>\n",
              "      <td>34</td>\n",
              "      <td>12.00</td>\n",
              "      <td>3</td>\n",
              "      <td>3</td>\n",
              "      <td>95</td>\n",
              "      <td>0</td>\n",
              "    </tr>\n",
              "    <tr>\n",
              "      <th>86</th>\n",
              "      <td>2</td>\n",
              "      <td>20</td>\n",
              "      <td>3.50</td>\n",
              "      <td>6</td>\n",
              "      <td>1</td>\n",
              "      <td>75</td>\n",
              "      <td>1</td>\n",
              "    </tr>\n",
              "    <tr>\n",
              "      <th>87</th>\n",
              "      <td>2</td>\n",
              "      <td>35</td>\n",
              "      <td>8.25</td>\n",
              "      <td>8</td>\n",
              "      <td>3</td>\n",
              "      <td>100</td>\n",
              "      <td>0</td>\n",
              "    </tr>\n",
              "    <tr>\n",
              "      <th>88</th>\n",
              "      <td>1</td>\n",
              "      <td>24</td>\n",
              "      <td>10.75</td>\n",
              "      <td>10</td>\n",
              "      <td>1</td>\n",
              "      <td>20</td>\n",
              "      <td>1</td>\n",
              "    </tr>\n",
              "    <tr>\n",
              "      <th>89</th>\n",
              "      <td>1</td>\n",
              "      <td>19</td>\n",
              "      <td>8.00</td>\n",
              "      <td>8</td>\n",
              "      <td>1</td>\n",
              "      <td>160</td>\n",
              "      <td>1</td>\n",
              "    </tr>\n",
              "  </tbody>\n",
              "</table>\n",
              "</div>\n",
              "      <button class=\"colab-df-convert\" onclick=\"convertToInteractive('df-f23c362a-0f6f-4f33-8b34-3f7e8d78ff4f')\"\n",
              "              title=\"Convert this dataframe to an interactive table.\"\n",
              "              style=\"display:none;\">\n",
              "        \n",
              "  <svg xmlns=\"http://www.w3.org/2000/svg\" height=\"24px\"viewBox=\"0 0 24 24\"\n",
              "       width=\"24px\">\n",
              "    <path d=\"M0 0h24v24H0V0z\" fill=\"none\"/>\n",
              "    <path d=\"M18.56 5.44l.94 2.06.94-2.06 2.06-.94-2.06-.94-.94-2.06-.94 2.06-2.06.94zm-11 1L8.5 8.5l.94-2.06 2.06-.94-2.06-.94L8.5 2.5l-.94 2.06-2.06.94zm10 10l.94 2.06.94-2.06 2.06-.94-2.06-.94-.94-2.06-.94 2.06-2.06.94z\"/><path d=\"M17.41 7.96l-1.37-1.37c-.4-.4-.92-.59-1.43-.59-.52 0-1.04.2-1.43.59L10.3 9.45l-7.72 7.72c-.78.78-.78 2.05 0 2.83L4 21.41c.39.39.9.59 1.41.59.51 0 1.02-.2 1.41-.59l7.78-7.78 2.81-2.81c.8-.78.8-2.07 0-2.86zM5.41 20L4 18.59l7.72-7.72 1.47 1.35L5.41 20z\"/>\n",
              "  </svg>\n",
              "      </button>\n",
              "      \n",
              "  <style>\n",
              "    .colab-df-container {\n",
              "      display:flex;\n",
              "      flex-wrap:wrap;\n",
              "      gap: 12px;\n",
              "    }\n",
              "\n",
              "    .colab-df-convert {\n",
              "      background-color: #E8F0FE;\n",
              "      border: none;\n",
              "      border-radius: 50%;\n",
              "      cursor: pointer;\n",
              "      display: none;\n",
              "      fill: #1967D2;\n",
              "      height: 32px;\n",
              "      padding: 0 0 0 0;\n",
              "      width: 32px;\n",
              "    }\n",
              "\n",
              "    .colab-df-convert:hover {\n",
              "      background-color: #E2EBFA;\n",
              "      box-shadow: 0px 1px 2px rgba(60, 64, 67, 0.3), 0px 1px 3px 1px rgba(60, 64, 67, 0.15);\n",
              "      fill: #174EA6;\n",
              "    }\n",
              "\n",
              "    [theme=dark] .colab-df-convert {\n",
              "      background-color: #3B4455;\n",
              "      fill: #D2E3FC;\n",
              "    }\n",
              "\n",
              "    [theme=dark] .colab-df-convert:hover {\n",
              "      background-color: #434B5C;\n",
              "      box-shadow: 0px 1px 3px 1px rgba(0, 0, 0, 0.15);\n",
              "      filter: drop-shadow(0px 1px 2px rgba(0, 0, 0, 0.3));\n",
              "      fill: #FFFFFF;\n",
              "    }\n",
              "  </style>\n",
              "\n",
              "      <script>\n",
              "        const buttonEl =\n",
              "          document.querySelector('#df-f23c362a-0f6f-4f33-8b34-3f7e8d78ff4f button.colab-df-convert');\n",
              "        buttonEl.style.display =\n",
              "          google.colab.kernel.accessAllowed ? 'block' : 'none';\n",
              "\n",
              "        async function convertToInteractive(key) {\n",
              "          const element = document.querySelector('#df-f23c362a-0f6f-4f33-8b34-3f7e8d78ff4f');\n",
              "          const dataTable =\n",
              "            await google.colab.kernel.invokeFunction('convertToInteractive',\n",
              "                                                     [key], {});\n",
              "          if (!dataTable) return;\n",
              "\n",
              "          const docLinkHtml = 'Like what you see? Visit the ' +\n",
              "            '<a target=\"_blank\" href=https://colab.research.google.com/notebooks/data_table.ipynb>data table notebook</a>'\n",
              "            + ' to learn more about interactive tables.';\n",
              "          element.innerHTML = '';\n",
              "          dataTable['output_type'] = 'display_data';\n",
              "          await google.colab.output.renderOutput(dataTable, element);\n",
              "          const docLink = document.createElement('div');\n",
              "          docLink.innerHTML = docLinkHtml;\n",
              "          element.appendChild(docLink);\n",
              "        }\n",
              "      </script>\n",
              "    </div>\n",
              "  </div>\n",
              "  "
            ]
          },
          "metadata": {},
          "execution_count": 9
        }
      ]
    },
    {
      "cell_type": "markdown",
      "source": [
        "#Plotting"
      ],
      "metadata": {
        "id": "a8GDFSwi0Esk"
      }
    },
    {
      "cell_type": "code",
      "source": [
        "a=df.age\n",
        "b=df.Type\n",
        "plt.plot(a,b)\n",
        "plt.show()"
      ],
      "metadata": {
        "colab": {
          "base_uri": "https://localhost:8080/",
          "height": 265
        },
        "id": "nW9FIabVsq5q",
        "outputId": "6c30f242-3b10-40fa-eaaf-b77eaca64684"
      },
      "execution_count": null,
      "outputs": [
        {
          "output_type": "display_data",
          "data": {
            "text/plain": [
              "<Figure size 432x288 with 1 Axes>"
            ],
            "image/png": "[encoded data removed]"
          },
          "metadata": {
            "needs_background": "light"
          }
        }
      ]
    },
    {
      "cell_type": "code",
      "source": [
        "plt.scatter(a,b)"
      ],
      "metadata": {
        "colab": {
          "base_uri": "https://localhost:8080/",
          "height": 282
        },
        "id": "5Ni9B39es6kC",
        "outputId": "f4a9580a-eda0-4427-af94-57746b03526a"
      },
      "execution_count": null,
      "outputs": [
        {
          "output_type": "execute_result",
          "data": {
            "text/plain": [
              "<matplotlib.collections.PathCollection at 0x7f815e721130>"
            ]
          },
          "metadata": {},
          "execution_count": 11
        },
        {
          "output_type": "display_data",
          "data": {
            "text/plain": [
              "<Figure size 432x288 with 1 Axes>"
            ],
            "image/png": "[encoded data removed]"
          },
          "metadata": {
            "needs_background": "light"
          }
        }
      ]
    },
    {
      "cell_type": "code",
      "source": [
        "plt.bar(a,b)"
      ],
      "metadata": {
        "colab": {
          "base_uri": "https://localhost:8080/",
          "height": 282
        },
        "id": "7vUQf_sQs-MZ",
        "outputId": "73d01b51-8090-4952-8af7-907b1d3c27c3"
      },
      "execution_count": null,
      "outputs": [
        {
          "output_type": "execute_result",
          "data": {
            "text/plain": [
              "<BarContainer object of 90 artists>"
            ]
          },
          "metadata": {},
          "execution_count": 12
        },
        {
          "output_type": "display_data",
          "data": {
            "text/plain": [
              "<Figure size 432x288 with 1 Axes>"
            ],
            "image/png": "[encoded data removed]"
          },
          "metadata": {
            "needs_background": "light"
          }
        }
      ]
    },
    {
      "cell_type": "code",
      "source": [
        "plt.hist(b)"
      ],
      "metadata": {
        "colab": {
          "base_uri": "https://localhost:8080/",
          "height": 317
        },
        "id": "P8cxoAdVtAxr",
        "outputId": "6fc7d1f6-cad7-4094-8a01-17ed332d820c"
      },
      "execution_count": null,
      "outputs": [
        {
          "output_type": "execute_result",
          "data": {
            "text/plain": [
              "(array([54.,  0.,  0.,  0.,  0.,  9.,  0.,  0.,  0., 27.]),\n",
              " array([1. , 1.2, 1.4, 1.6, 1.8, 2. , 2.2, 2.4, 2.6, 2.8, 3. ]),\n",
              " <a list of 10 Patch objects>)"
            ]
          },
          "metadata": {},
          "execution_count": 13
        },
        {
          "output_type": "display_data",
          "data": {
            "text/plain": [
              "<Figure size 432x288 with 1 Axes>"
            ],
            "image/png": "[encoded data removed]"
          },
          "metadata": {
            "needs_background": "light"
          }
        }
      ]
    },
    {
      "cell_type": "code",
      "source": [
        "plt.pie(a)"
      ],
      "metadata": {
        "colab": {
          "base_uri": "https://localhost:8080/",
          "height": 1000
        },
        "id": "lt8dUFb3tGot",
        "outputId": "b57559ac-951f-4534-ee7b-68fd86f910bb"
      },
      "execution_count": null,
      "outputs": [
        {
          "output_type": "execute_result",
          "data": {
            "text/plain": [
              "([<matplotlib.patches.Wedge at 0x7f815e4e43a0>,\n",
              "  <matplotlib.patches.Wedge at 0x7f815e4e4850>,\n",
              "  <matplotlib.patches.Wedge at 0x7f815e4e4cd0>,\n",
              "  <matplotlib.patches.Wedge at 0x7f815e4d2190>,\n",
              "  <matplotlib.patches.Wedge at 0x7f815e4d2670>,\n",
              "  <matplotlib.patches.Wedge at 0x7f815e4d2ac0>,\n",
              "  <matplotlib.patches.Wedge at 0x7f815e4d2f40>,\n",
              "  <matplotlib.patches.Wedge at 0x7f815e4e53d0>,\n",
              "  <matplotlib.patches.Wedge at 0x7f815e4e5850>,\n",
              "  <matplotlib.patches.Wedge at 0x7f815e4e5cd0>,\n",
              "  <matplotlib.patches.Wedge at 0x7f815e4e4370>,\n",
              "  <matplotlib.patches.Wedge at 0x7f815e4f7610>,\n",
              "  <matplotlib.patches.Wedge at 0x7f815e4f7a60>,\n",
              "  <matplotlib.patches.Wedge at 0x7f815e4f7f10>,\n",
              "  <matplotlib.patches.Wedge at 0x7f815e4883d0>,\n",
              "  <matplotlib.patches.Wedge at 0x7f815e488850>,\n",
              "  <matplotlib.patches.Wedge at 0x7f815e488cd0>,\n",
              "  <matplotlib.patches.Wedge at 0x7f815e494190>,\n",
              "  <matplotlib.patches.Wedge at 0x7f815e494610>,\n",
              "  <matplotlib.patches.Wedge at 0x7f815e494a90>,\n",
              "  <matplotlib.patches.Wedge at 0x7f815e494f10>,\n",
              "  <matplotlib.patches.Wedge at 0x7f815e4a33d0>,\n",
              "  <matplotlib.patches.Wedge at 0x7f815e4a3850>,\n",
              "  <matplotlib.patches.Wedge at 0x7f815e4a3cd0>,\n",
              "  <matplotlib.patches.Wedge at 0x7f815e4af190>,\n",
              "  <matplotlib.patches.Wedge at 0x7f815e4af610>,\n",
              "  <matplotlib.patches.Wedge at 0x7f815e4afa90>,\n",
              "  <matplotlib.patches.Wedge at 0x7f815e4aff10>,\n",
              "  <matplotlib.patches.Wedge at 0x7f815e4bb3d0>,\n",
              "  <matplotlib.patches.Wedge at 0x7f815e4bb850>,\n",
              "  <matplotlib.patches.Wedge at 0x7f815e4bbcd0>,\n",
              "  <matplotlib.patches.Wedge at 0x7f815e446190>,\n",
              "  <matplotlib.patches.Wedge at 0x7f815e446610>,\n",
              "  <matplotlib.patches.Wedge at 0x7f815e446a90>,\n",
              "  <matplotlib.patches.Wedge at 0x7f815e446f10>,\n",
              "  <matplotlib.patches.Wedge at 0x7f815e4553d0>,\n",
              "  <matplotlib.patches.Wedge at 0x7f815e455850>,\n",
              "  <matplotlib.patches.Wedge at 0x7f815e455cd0>,\n",
              "  <matplotlib.patches.Wedge at 0x7f815e460190>,\n",
              "  <matplotlib.patches.Wedge at 0x7f815e460610>,\n",
              "  <matplotlib.patches.Wedge at 0x7f815e460a90>,\n",
              "  <matplotlib.patches.Wedge at 0x7f815e460f10>,\n",
              "  <matplotlib.patches.Wedge at 0x7f815e46e3d0>,\n",
              "  <matplotlib.patches.Wedge at 0x7f815e46e850>,\n",
              "  <matplotlib.patches.Wedge at 0x7f815e46ecd0>,\n",
              "  <matplotlib.patches.Wedge at 0x7f815e47b190>,\n",
              "  <matplotlib.patches.Wedge at 0x7f815e47b610>,\n",
              "  <matplotlib.patches.Wedge at 0x7f815e47ba90>,\n",
              "  <matplotlib.patches.Wedge at 0x7f815e47bf10>,\n",
              "  <matplotlib.patches.Wedge at 0x7f815e4083d0>,\n",
              "  <matplotlib.patches.Wedge at 0x7f815e408850>,\n",
              "  <matplotlib.patches.Wedge at 0x7f815e408cd0>,\n",
              "  <matplotlib.patches.Wedge at 0x7f815e413190>,\n",
              "  <matplotlib.patches.Wedge at 0x7f815e413640>,\n",
              "  <matplotlib.patches.Wedge at 0x7f815e413ac0>,\n",
              "  <matplotlib.patches.Wedge at 0x7f815e413f40>,\n",
              "  <matplotlib.patches.Wedge at 0x7f815e421400>,\n",
              "  <matplotlib.patches.Wedge at 0x7f815e421880>,\n",
              "  <matplotlib.patches.Wedge at 0x7f815e421d00>,\n",
              "  <matplotlib.patches.Wedge at 0x7f815e42d1c0>,\n",
              "  <matplotlib.patches.Wedge at 0x7f815e42d640>,\n",
              "  <matplotlib.patches.Wedge at 0x7f815e42dac0>,\n",
              "  <matplotlib.patches.Wedge at 0x7f815e42df40>,\n",
              "  <matplotlib.patches.Wedge at 0x7f815e43b400>,\n",
              "  <matplotlib.patches.Wedge at 0x7f815e43b880>,\n",
              "  <matplotlib.patches.Wedge at 0x7f815e43bd00>,\n",
              "  <matplotlib.patches.Wedge at 0x7f815e3c71c0>,\n",
              "  <matplotlib.patches.Wedge at 0x7f815e3c7640>,\n",
              "  <matplotlib.patches.Wedge at 0x7f815e3c7ac0>,\n",
              "  <matplotlib.patches.Wedge at 0x7f815e3c7f40>,\n",
              "  <matplotlib.patches.Wedge at 0x7f815e3d3400>,\n",
              "  <matplotlib.patches.Wedge at 0x7f815e3d3880>,\n",
              "  <matplotlib.patches.Wedge at 0x7f815e3d3d00>,\n",
              "  <matplotlib.patches.Wedge at 0x7f815e3df1c0>,\n",
              "  <matplotlib.patches.Wedge at 0x7f815e3df640>,\n",
              "  <matplotlib.patches.Wedge at 0x7f815e3dfac0>,\n",
              "  <matplotlib.patches.Wedge at 0x7f815e3dff40>,\n",
              "  <matplotlib.patches.Wedge at 0x7f815e3ed400>,\n",
              "  <matplotlib.patches.Wedge at 0x7f815e3ed880>,\n",
              "  <matplotlib.patches.Wedge at 0x7f815e3edd00>,\n",
              "  <matplotlib.patches.Wedge at 0x7f815e3f81c0>,\n",
              "  <matplotlib.patches.Wedge at 0x7f815e3f8640>,\n",
              "  <matplotlib.patches.Wedge at 0x7f815e3f8ac0>,\n",
              "  <matplotlib.patches.Wedge at 0x7f815e3f8f40>,\n",
              "  <matplotlib.patches.Wedge at 0x7f815e385400>,\n",
              "  <matplotlib.patches.Wedge at 0x7f815e385880>,\n",
              "  <matplotlib.patches.Wedge at 0x7f815e385d00>,\n",
              "  <matplotlib.patches.Wedge at 0x7f815e3931c0>,\n",
              "  <matplotlib.patches.Wedge at 0x7f815e393640>,\n",
              "  <matplotlib.patches.Wedge at 0x7f815e393ac0>],\n",
              " [Text(1.0989965045859735, 0.04697534361569252, ''),\n",
              "  Text(1.0919797616869076, 0.13259034680626128, ''),\n",
              "  Text(1.074143095820839, 0.2371004211308456, ''),\n",
              "  Text(1.0450782296164798, 0.3432367899594745, ''),\n",
              "  Text(0.9960858100939858, 0.4667044663696806, ''),\n",
              "  Text(0.9261040417993202, 0.5935750194903449, ''),\n",
              "  Text(0.8663156606950975, 0.6778622102126781, ''),\n",
              "  Text(0.7820777113483648, 0.7735337441974358, ''),\n",
              "  Text(0.7039762552554796, 0.8452321764086316, ''),\n",
              "  Text(0.6467809901646203, 0.8897608390807462, ''),\n",
              "  Text(0.5856412230316316, 0.9311414274351748, ''),\n",
              "  Text(0.5441763392576981, 0.9559665850813462, ''),\n",
              "  Text(0.5088164166015485, 0.9752465607202927, ''),\n",
              "  Text(0.47277441015213145, 0.9932191888527448, ''),\n",
              "  Text(0.433632248391015, 1.0109218927075194, ''),\n",
              "  Text(0.3913204087315754, 1.0280410194686558, ''),\n",
              "  Text(0.34068471993080024, 1.0459129608173294, ''),\n",
              "  Text(0.27626279187797903, 1.0647435699847099, ''),\n",
              "  Text(0.22134353481968932, 1.0775003664006455, ''),\n",
              "  Text(0.17777746060486196, 1.085539116983302, ''),\n",
              "  Text(0.12459023859296321, 1.0929214392843378, ''),\n",
              "  Text(0.07378541407227096, 1.0975225340147616, ''),\n",
              "  Text(0.014767732500824445, 1.0999008655677949, ''),\n",
              "  Text(-0.07646425559069561, 1.097339153414732, ''),\n",
              "  Text(-0.16982328326542276, 1.086811875377221, ''),\n",
              "  Text(-0.25411288754815264, 1.0702460653428911, ''),\n",
              "  Text(-0.32404740765507667, 1.051186604553171, ''),\n",
              "  Text(-0.39382869628756295, 1.0270827415454116, ''),\n",
              "  Text(-0.4667044634552966, 0.9960858114594866, ''),\n",
              "  Text(-0.5183143863595392, 0.9702320325018828, ''),\n",
              "  Text(-0.5810883854232695, 0.9339894476524764, ''),\n",
              "  Text(-0.6521987162531336, 0.8857972874861182, ''),\n",
              "  Text(-0.7344459113640924, 0.8188951112813947, ''),\n",
              "  Text(-0.8125905021925273, 0.7414153193362655, ''),\n",
              "  Text(-0.8960335429559187, 0.6380626065660515, ''),\n",
              "  Text(-0.9721233414899322, 0.5147583986011776, ''),\n",
              "  Text(-1.016138991142545, 0.4212618552394834, ''),\n",
              "  Text(-1.0595076989736936, 0.2957083627756735, ''),\n",
              "  Text(-1.0839806630342548, 0.18704524096543437, ''),\n",
              "  Text(-1.0939459841196002, 0.11524835716225938, ''),\n",
              "  Text(-1.099212741866135, 0.04160947150750396, ''),\n",
              "  Text(-1.0999795175307274, -0.006712750022794424, ''),\n",
              "  Text(-1.0989965052044632, -0.04697532914601563, ''),\n",
              "  Text(-1.0965402548288756, -0.08717493641996374, ''),\n",
              "  Text(-1.092300165535766, -0.12992439482459986, ''),\n",
              "  Text(-1.085969844724478, -0.17512708628048723, ''),\n",
              "  Text(-1.0761295559588497, -0.227914849871195, ''),\n",
              "  Text(-1.0602263783488814, -0.29312118083348193, ''),\n",
              "  Text(-1.0438144600076944, -0.34706105093894607, ''),\n",
              "  Text(-1.0289931854452812, -0.38880975335911183, ''),\n",
              "  Text(-1.0087928534791348, -0.4385624000862648, ''),\n",
              "  Text(-0.9873751065017884, -0.48486121628831297, ''),\n",
              "  Text(-0.9599259616676705, -0.5371611937923272, ''),\n",
              "  Text(-0.9120914604266295, -0.6148895574140275, ''),\n",
              "  Text(-0.8562950569658311, -0.6904772084695368, ''),\n",
              "  Text(-0.7998038430053833, -0.7551912424769107, ''),\n",
              "  Text(-0.7483306061237798, -0.8062265834977266, ''),\n",
              "  Text(-0.6925654044909525, -0.8546070210934869, ''),\n",
              "  Text(-0.6292833923848383, -0.9022208222318024, ''),\n",
              "  Text(-0.5810884018194702, -0.9339894374514596, ''),\n",
              "  Text(-0.5183144033919792, -0.9702320234028647, ''),\n",
              "  Text(-0.44102360330221624, -1.0077192968929045, ''),\n",
              "  Text(-0.3419610218797294, -1.0454963699195572, ''),\n",
              "  Text(-0.2357892585868575, -1.0744316756011338, ''),\n",
              "  Text(-0.10456166355674701, -1.0950191133100124, ''),\n",
              "  Text(0.04026781216825003, -1.0992627089568638, ''),\n",
              "  Text(0.143246018779147, -1.0906331088427146, ''),\n",
              "  Text(0.278861000881115, -1.0640660422114705, ''),\n",
              "  Text(0.3900653550290895, -1.0285178748111432, ''),\n",
              "  Text(0.4569564948736052, -1.0005952037626549, ''),\n",
              "  Text(0.5230448867160664, -0.9676900570328174, ''),\n",
              "  Text(0.5650451095464446, -0.9437817672415835, ''),\n",
              "  Text(0.5992155087075871, -0.9224645110378543, ''),\n",
              "  Text(0.6325826413587888, -0.8999106632613807, ''),\n",
              "  Text(0.6672384956153538, -0.8745243221140049, ''),\n",
              "  Text(0.7029440936483389, -0.8460907759838276, ''),\n",
              "  Text(0.7433966338186704, -0.8107782957301397, ''),\n",
              "  Text(0.7914602627579618, -0.7639310521736228, ''),\n",
              "  Text(0.8295636578135094, -0.7223739596878274, ''),\n",
              "  Text(0.8579779461220695, -0.6883849533278278, ''),\n",
              "  Text(0.8905495634834382, -0.6456945678720382, ''),\n",
              "  Text(0.9195281071977561, -0.6037119015501616, ''),\n",
              "  Text(0.9506077084459448, -0.5534844032519343, ''),\n",
              "  Text(0.993219181244812, -0.47277442613511306, ''),\n",
              "  Text(1.0299391962392246, -0.38629684447339196, ''),\n",
              "  Text(1.0569426521863101, -0.3047494544529471, ''),\n",
              "  Text(1.074718655928629, -0.2344777400926605, ''),\n",
              "  Text(1.0880263445179952, -0.161860043354774, ''),\n",
              "  Text(1.0968520940855369, -0.08315938732441756, ''),\n",
              "  Text(1.0997042437410858, -0.025506397194564722, '')])"
            ]
          },
          "metadata": {},
          "execution_count": 14
        },
        {
          "output_type": "display_data",
          "data": {
            "text/plain": [
              "<Figure size 432x288 with 1 Axes>"
            ],
            "image/png": "[encoded data removed]"
          },
          "metadata": {}
        }
      ]
    },
    {
      "cell_type": "code",
      "source": [
        "plt.polar(a)"
      ],
      "metadata": {
        "colab": {
          "base_uri": "https://localhost:8080/",
          "height": 303
        },
        "id": "_2HUSnVptKOy",
        "outputId": "73fad380-8e3c-44e3-cbc0-e1e7cd7c7e37"
      },
      "execution_count": null,
      "outputs": [
        {
          "output_type": "execute_result",
          "data": {
            "text/plain": [
              "[<matplotlib.lines.Line2D at 0x7f815e3bfa90>]"
            ]
          },
          "metadata": {},
          "execution_count": 15
        },
        {
          "output_type": "display_data",
          "data": {
            "text/plain": [
              "<Figure size 432x288 with 1 Axes>"
            ],
            "image/png": "[encoded data removed]"
          },
          "metadata": {
            "needs_background": "light"
          }
        }
      ]
    },
    {
      "cell_type": "code",
      "source": [
        "plt.stem(b)"
      ],
      "metadata": {
        "colab": {
          "base_uri": "https://localhost:8080/",
          "height": 337
        },
        "id": "cOTslOfotNKv",
        "outputId": "140281b9-9209-4b54-bc99-ac59e6d66b15"
      },
      "execution_count": null,
      "outputs": [
        {
          "output_type": "stream",
          "name": "stderr",
          "text": [
            "<ipython-input-16-90f352bd6d48>:1: UserWarning: In Matplotlib 3.3 individual lines on a stem plot will be added as a LineCollection instead of individual lines. This significantly improves the performance of a stem plot. To remove this warning and switch to the new behaviour, set the \"use_line_collection\" keyword argument to True.\n",
            "  plt.stem(b)\n"
          ]
        },
        {
          "output_type": "execute_result",
          "data": {
            "text/plain": [
              "<StemContainer object of 3 artists>"
            ]
          },
          "metadata": {},
          "execution_count": 16
        },
        {
          "output_type": "display_data",
          "data": {
            "text/plain": [
              "<Figure size 432x288 with 1 Axes>"
            ],
            "image/png": "[encoded data removed]"
          },
          "metadata": {
            "needs_background": "light"
          }
        }
      ]
    },
    {
      "cell_type": "code",
      "source": [
        "x=df.drop('Result_of_Treatment',axis=1)\n",
        "y=df['Result_of_Treatment']\n"
      ],
      "metadata": {
        "id": "qWadus3ptPPf"
      },
      "execution_count": null,
      "outputs": []
    },
    {
      "cell_type": "code",
      "source": [
        "plt.figure(figsize=(20,20))\n",
        "plotnumber=1\n",
        "for col in x.columns:\n",
        "  if plotnumber<=8:\n",
        "    ax=plt.subplot(5,5,plotnumber)\n",
        "    sns.boxplot(x[col])\n",
        "    plt.xlabel(col,fontsize=20)\n",
        "  plotnumber+=1\n",
        "plt.tight_layout()\n",
        "plt.show()"
      ],
      "metadata": {
        "colab": {
          "base_uri": "https://localhost:8080/",
          "height": 704
        },
        "id": "w69kT20stmqb",
        "outputId": "30f1d664-d820-4eb6-bd2c-5f45f7c929ba"
      },
      "execution_count": null,
      "outputs": [
        {
          "output_type": "stream",
          "name": "stderr",
          "text": [
            "/usr/local/lib/python3.8/dist-packages/seaborn/_decorators.py:36: FutureWarning: Pass the following variable as a keyword arg: x. From version 0.12, the only valid positional argument will be `data`, and passing other arguments without an explicit keyword will result in an error or misinterpretation.\n",
            "  warnings.warn(\n",
            "/usr/local/lib/python3.8/dist-packages/seaborn/_decorators.py:36: FutureWarning: Pass the following variable as a keyword arg: x. From version 0.12, the only valid positional argument will be `data`, and passing other arguments without an explicit keyword will result in an error or misinterpretation.\n",
            "  warnings.warn(\n",
            "/usr/local/lib/python3.8/dist-packages/seaborn/_decorators.py:36: FutureWarning: Pass the following variable as a keyword arg: x. From version 0.12, the only valid positional argument will be `data`, and passing other arguments without an explicit keyword will result in an error or misinterpretation.\n",
            "  warnings.warn(\n",
            "/usr/local/lib/python3.8/dist-packages/seaborn/_decorators.py:36: FutureWarning: Pass the following variable as a keyword arg: x. From version 0.12, the only valid positional argument will be `data`, and passing other arguments without an explicit keyword will result in an error or misinterpretation.\n",
            "  warnings.warn(\n",
            "/usr/local/lib/python3.8/dist-packages/seaborn/_decorators.py:36: FutureWarning: Pass the following variable as a keyword arg: x. From version 0.12, the only valid positional argument will be `data`, and passing other arguments without an explicit keyword will result in an error or misinterpretation.\n",
            "  warnings.warn(\n",
            "/usr/local/lib/python3.8/dist-packages/seaborn/_decorators.py:36: FutureWarning: Pass the following variable as a keyword arg: x. From version 0.12, the only valid positional argument will be `data`, and passing other arguments without an explicit keyword will result in an error or misinterpretation.\n",
            "  warnings.warn(\n"
          ]
        },
        {
          "output_type": "display_data",
          "data": {
            "text/plain": [
              "<Figure size 1440x1440 with 6 Axes>"
            ],
            "image/png": "[encoded data removed]"
          },
          "metadata": {
            "needs_background": "light"
          }
        }
      ]
    },
    {
      "cell_type": "markdown",
      "source": [
        "#Find missing values"
      ],
      "metadata": {
        "id": "8at42BGw0I1i"
      }
    },
    {
      "cell_type": "code",
      "source": [
        "import missingno as mn\n",
        "mn.bar(df)\n",
        "plt.show()"
      ],
      "metadata": {
        "colab": {
          "base_uri": "https://localhost:8080/",
          "height": 565
        },
        "id": "t3oD4oN4tv9U",
        "outputId": "fd91f3e3-f368-43e5-dddb-1bf315e620c4"
      },
      "execution_count": null,
      "outputs": [
        {
          "output_type": "display_data",
          "data": {
            "text/plain": [
              "<Figure size 1800x720 with 3 Axes>"
            ],
            "image/png": "[encoded data removed]"
          },
          "metadata": {
            "needs_background": "light"
          }
        }
      ]
    },
    {
      "cell_type": "code",
      "source": [
        "df.isna().sum()"
      ],
      "metadata": {
        "colab": {
          "base_uri": "https://localhost:8080/"
        },
        "id": "0Ck4I4-Q1aAZ",
        "outputId": "2c57c165-e79a-4f32-dc4d-16bdf1d457b4"
      },
      "execution_count": null,
      "outputs": [
        {
          "output_type": "execute_result",
          "data": {
            "text/plain": [
              "sex                    0\n",
              "age                    0\n",
              "Time                   0\n",
              "Number_of_Warts        0\n",
              "Type                   0\n",
              "Area                   0\n",
              "Result_of_Treatment    0\n",
              "dtype: int64"
            ]
          },
          "metadata": {},
          "execution_count": 39
        }
      ]
    },
    {
      "cell_type": "markdown",
      "source": [
        "#Decision tree using CART(Gini index)"
      ],
      "metadata": {
        "id": "1MjY9omI0QTK"
      }
    },
    {
      "cell_type": "code",
      "source": [
        "x_train,x_test,y_train,y_test=train_test_split(x,y,test_size=0.2,random_state=0)"
      ],
      "metadata": {
        "id": "oZBD4Wi1t_zJ"
      },
      "execution_count": null,
      "outputs": []
    },
    {
      "cell_type": "code",
      "source": [
        "a=StandardScaler()\n",
        "x_train=a.fit_transform(x_train)\n",
        "x_test=a.transform(x_test)"
      ],
      "metadata": {
        "id": "bNmaX8nY0a93"
      },
      "execution_count": null,
      "outputs": []
    },
    {
      "cell_type": "code",
      "source": [
        "clf=DecisionTreeClassifier(criterion=\"gini\",random_state=0)\n",
        "clf.fit(x_train,y_train)"
      ],
      "metadata": {
        "colab": {
          "base_uri": "https://localhost:8080/"
        },
        "id": "BpnLVOy60gx5",
        "outputId": "81d2b35a-0b55-4b97-fd36-7131e1e1db24"
      },
      "execution_count": null,
      "outputs": [
        {
          "output_type": "execute_result",
          "data": {
            "text/plain": [
              "DecisionTreeClassifier(random_state=0)"
            ]
          },
          "metadata": {},
          "execution_count": 48
        }
      ]
    },
    {
      "cell_type": "code",
      "source": [
        "y_pred=clf.predict(x_test)"
      ],
      "metadata": {
        "id": "8qgxFQJR0k76"
      },
      "execution_count": null,
      "outputs": []
    },
    {
      "cell_type": "markdown",
      "source": [
        "#Confusion matrix"
      ],
      "metadata": {
        "id": "pXAHLDxD0pPn"
      }
    },
    {
      "cell_type": "code",
      "source": [
        "cm=confusion_matrix(y_test,y_pred)\n",
        "cm"
      ],
      "metadata": {
        "colab": {
          "base_uri": "https://localhost:8080/"
        },
        "id": "_Zl2dAhf0mxI",
        "outputId": "416281c3-bdc5-4bef-8e1b-578c955bd782"
      },
      "execution_count": null,
      "outputs": [
        {
          "output_type": "execute_result",
          "data": {
            "text/plain": [
              "array([[ 6,  1],\n",
              "       [ 1, 10]])"
            ]
          },
          "metadata": {},
          "execution_count": 50
        }
      ]
    },
    {
      "cell_type": "markdown",
      "source": [
        "#Accuracy"
      ],
      "metadata": {
        "id": "YjRiyzC90yZ9"
      }
    },
    {
      "cell_type": "code",
      "source": [
        "from sklearn.metrics import accuracy_score\n",
        "accuracy_score(y_test,y_pred)"
      ],
      "metadata": {
        "colab": {
          "base_uri": "https://localhost:8080/"
        },
        "id": "PJhUu5XK03cT",
        "outputId": "38707fa8-76b5-4509-fd5c-e41c3c4e01d5"
      },
      "execution_count": null,
      "outputs": [
        {
          "output_type": "execute_result",
          "data": {
            "text/plain": [
              "0.8888888888888888"
            ]
          },
          "metadata": {},
          "execution_count": 51
        }
      ]
    },
    {
      "cell_type": "markdown",
      "source": [
        "#Decision Tree Visualization"
      ],
      "metadata": {
        "id": "7XnYgVMv0-eD"
      }
    },
    {
      "cell_type": "code",
      "source": [
        "from sklearn.tree import export_graphviz\n",
        "graphviz.Source(export_graphviz(clf,feature_names=x.columns,filled=True))"
      ],
      "metadata": {
        "colab": {
          "base_uri": "https://localhost:8080/",
          "height": 796
        },
        "id": "q0fcq1_T1DWI",
        "outputId": "a62bf47a-6175-413b-8ae8-beda70a8aa92"
      },
      "execution_count": null,
      "outputs": [
        {
          "output_type": "execute_result",
          "data": {
            "text/plain": [
              "<graphviz.files.Source at 0x7f815c361880>"
            ],
            "image/svg+xml": "<?xml version=\"1.0\" encoding=\"UTF-8\" standalone=\"no\"?>\n<!DOCTYPE svg PUBLIC \"-//W3C//DTD SVG 1.1//EN\"\n \"http://www.w3.org/Graphics/SVG/1.1/DTD/svg11.dtd\">\n<!-- Generated by graphviz version 2.43.0 (0)\n -->\n<!-- Title: Tree Pages: 1 -->\n<svg width=\"640pt\" height=\"581pt\"\n viewBox=\"0.00 0.00 640.00 581.00\" xmlns=\"http://www.w3.org/2000/svg\" xmlns:xlink=\"http://www.w3.org/1999/xlink\">\n<g id=\"graph0\" class=\"graph\" transform=\"scale(1 1) rotate(0) translate(4 577)\">\n<title>Tree</title>\n<polygon fill=\"white\" stroke=\"transparent\" points=\"-4,4 -4,-577 636,-577 636,4 -4,4\"/>\n<!-- 0 -->\n<g id=\"node1\" class=\"node\">\n<title>0</title>\n<polygon fill=\"#f4fafe\" stroke=\"black\" points=\"281,-573 171,-573 171,-505 281,-505 281,-573\"/>\n<text text-anchor=\"middle\" x=\"226\" y=\"-557.8\" font-family=\"Helvetica,sans-Serif\" font-size=\"14.00\">Time &lt;= 0.059</text>\n<text text-anchor=\"middle\" x=\"226\" y=\"-542.8\" font-family=\"Helvetica,sans-Serif\" font-size=\"14.00\">gini = 0.5</text>\n<text text-anchor=\"middle\" x=\"226\" y=\"-527.8\" font-family=\"Helvetica,sans-Serif\" font-size=\"14.00\">samples = 72</text>\n<text text-anchor=\"middle\" x=\"226\" y=\"-512.8\" font-family=\"Helvetica,sans-Serif\" font-size=\"14.00\">value = [35, 37]</text>\n</g>\n<!-- 1 -->\n<g id=\"node2\" class=\"node\">\n<title>1</title>\n<polygon fill=\"#47a4e7\" stroke=\"black\" points=\"217,-469 115,-469 115,-401 217,-401 217,-469\"/>\n<text text-anchor=\"middle\" x=\"166\" y=\"-453.8\" font-family=\"Helvetica,sans-Serif\" font-size=\"14.00\">age &lt;= 1.717</text>\n<text text-anchor=\"middle\" x=\"166\" y=\"-438.8\" font-family=\"Helvetica,sans-Serif\" font-size=\"14.00\">gini = 0.121</text>\n<text text-anchor=\"middle\" x=\"166\" y=\"-423.8\" font-family=\"Helvetica,sans-Serif\" font-size=\"14.00\">samples = 31</text>\n<text text-anchor=\"middle\" x=\"166\" y=\"-408.8\" font-family=\"Helvetica,sans-Serif\" font-size=\"14.00\">value = [2, 29]</text>\n</g>\n<!-- 0&#45;&gt;1 -->\n<g id=\"edge1\" class=\"edge\">\n<title>0&#45;&gt;1</title>\n<path fill=\"none\" stroke=\"black\" d=\"M206.52,-504.88C201.49,-496.33 196.01,-487.01 190.75,-478.07\"/>\n<polygon fill=\"black\" stroke=\"black\" points=\"193.67,-476.14 185.59,-469.3 187.64,-479.69 193.67,-476.14\"/>\n<text text-anchor=\"middle\" x=\"179.31\" y=\"-489.8\" font-family=\"Helvetica,sans-Serif\" font-size=\"14.00\">True</text>\n</g>\n<!-- 4 -->\n<g id=\"node5\" class=\"node\">\n<title>4</title>\n<polygon fill=\"#eba069\" stroke=\"black\" points=\"337,-469 235,-469 235,-401 337,-401 337,-469\"/>\n<text text-anchor=\"middle\" x=\"286\" y=\"-453.8\" font-family=\"Helvetica,sans-Serif\" font-size=\"14.00\">age &lt;= &#45;0.922</text>\n<text text-anchor=\"middle\" x=\"286\" y=\"-438.8\" font-family=\"Helvetica,sans-Serif\" font-size=\"14.00\">gini = 0.314</text>\n<text text-anchor=\"middle\" x=\"286\" y=\"-423.8\" font-family=\"Helvetica,sans-Serif\" font-size=\"14.00\">samples = 41</text>\n<text text-anchor=\"middle\" x=\"286\" y=\"-408.8\" font-family=\"Helvetica,sans-Serif\" font-size=\"14.00\">value = [33, 8]</text>\n</g>\n<!-- 0&#45;&gt;4 -->\n<g id=\"edge4\" class=\"edge\">\n<title>0&#45;&gt;4</title>\n<path fill=\"none\" stroke=\"black\" d=\"M245.48,-504.88C250.51,-496.33 255.99,-487.01 261.25,-478.07\"/>\n<polygon fill=\"black\" stroke=\"black\" points=\"264.36,-479.69 266.41,-469.3 258.33,-476.14 264.36,-479.69\"/>\n<text text-anchor=\"middle\" x=\"272.69\" y=\"-489.8\" font-family=\"Helvetica,sans-Serif\" font-size=\"14.00\">False</text>\n</g>\n<!-- 2 -->\n<g id=\"node3\" class=\"node\">\n<title>2</title>\n<polygon fill=\"#399de5\" stroke=\"black\" points=\"102,-357.5 0,-357.5 0,-304.5 102,-304.5 102,-357.5\"/>\n<text text-anchor=\"middle\" x=\"51\" y=\"-342.3\" font-family=\"Helvetica,sans-Serif\" font-size=\"14.00\">gini = 0.0</text>\n<text text-anchor=\"middle\" x=\"51\" y=\"-327.3\" font-family=\"Helvetica,sans-Serif\" font-size=\"14.00\">samples = 29</text>\n<text text-anchor=\"middle\" x=\"51\" y=\"-312.3\" font-family=\"Helvetica,sans-Serif\" font-size=\"14.00\">value = [0, 29]</text>\n</g>\n<!-- 1&#45;&gt;2 -->\n<g id=\"edge2\" class=\"edge\">\n<title>1&#45;&gt;2</title>\n<path fill=\"none\" stroke=\"black\" d=\"M128.66,-400.88C115.4,-389.12 100.49,-375.89 87.31,-364.2\"/>\n<polygon fill=\"black\" stroke=\"black\" points=\"89.58,-361.54 79.77,-357.52 84.93,-366.77 89.58,-361.54\"/>\n</g>\n<!-- 3 -->\n<g id=\"node4\" class=\"node\">\n<title>3</title>\n<polygon fill=\"#e58139\" stroke=\"black\" points=\"215.5,-357.5 120.5,-357.5 120.5,-304.5 215.5,-304.5 215.5,-357.5\"/>\n<text text-anchor=\"middle\" x=\"168\" y=\"-342.3\" font-family=\"Helvetica,sans-Serif\" font-size=\"14.00\">gini = 0.0</text>\n<text text-anchor=\"middle\" x=\"168\" y=\"-327.3\" font-family=\"Helvetica,sans-Serif\" font-size=\"14.00\">samples = 2</text>\n<text text-anchor=\"middle\" x=\"168\" y=\"-312.3\" font-family=\"Helvetica,sans-Serif\" font-size=\"14.00\">value = [2, 0]</text>\n</g>\n<!-- 1&#45;&gt;3 -->\n<g id=\"edge3\" class=\"edge\">\n<title>1&#45;&gt;3</title>\n<path fill=\"none\" stroke=\"black\" d=\"M166.65,-400.88C166.86,-390.22 167.09,-378.35 167.3,-367.52\"/>\n<polygon fill=\"black\" stroke=\"black\" points=\"170.8,-367.59 167.5,-357.52 163.8,-367.45 170.8,-367.59\"/>\n</g>\n<!-- 5 -->\n<g id=\"node6\" class=\"node\">\n<title>5</title>\n<polygon fill=\"#399de5\" stroke=\"black\" points=\"331.5,-357.5 236.5,-357.5 236.5,-304.5 331.5,-304.5 331.5,-357.5\"/>\n<text text-anchor=\"middle\" x=\"284\" y=\"-342.3\" font-family=\"Helvetica,sans-Serif\" font-size=\"14.00\">gini = 0.0</text>\n<text text-anchor=\"middle\" x=\"284\" y=\"-327.3\" font-family=\"Helvetica,sans-Serif\" font-size=\"14.00\">samples = 4</text>\n<text text-anchor=\"middle\" x=\"284\" y=\"-312.3\" font-family=\"Helvetica,sans-Serif\" font-size=\"14.00\">value = [0, 4]</text>\n</g>\n<!-- 4&#45;&gt;5 -->\n<g id=\"edge5\" class=\"edge\">\n<title>4&#45;&gt;5</title>\n<path fill=\"none\" stroke=\"black\" d=\"M285.35,-400.88C285.14,-390.22 284.91,-378.35 284.7,-367.52\"/>\n<polygon fill=\"black\" stroke=\"black\" points=\"288.2,-367.45 284.5,-357.52 281.2,-367.59 288.2,-367.45\"/>\n</g>\n<!-- 6 -->\n<g id=\"node7\" class=\"node\">\n<title>6</title>\n<polygon fill=\"#e89051\" stroke=\"black\" points=\"456.5,-365 349.5,-365 349.5,-297 456.5,-297 456.5,-365\"/>\n<text text-anchor=\"middle\" x=\"403\" y=\"-349.8\" font-family=\"Helvetica,sans-Serif\" font-size=\"14.00\">Area &lt;= &#45;0.477</text>\n<text text-anchor=\"middle\" x=\"403\" y=\"-334.8\" font-family=\"Helvetica,sans-Serif\" font-size=\"14.00\">gini = 0.193</text>\n<text text-anchor=\"middle\" x=\"403\" y=\"-319.8\" font-family=\"Helvetica,sans-Serif\" font-size=\"14.00\">samples = 37</text>\n<text text-anchor=\"middle\" x=\"403\" y=\"-304.8\" font-family=\"Helvetica,sans-Serif\" font-size=\"14.00\">value = [33, 4]</text>\n</g>\n<!-- 4&#45;&gt;6 -->\n<g id=\"edge6\" class=\"edge\">\n<title>4&#45;&gt;6</title>\n<path fill=\"none\" stroke=\"black\" d=\"M323.99,-400.88C334.51,-391.71 346.05,-381.65 356.98,-372.12\"/>\n<polygon fill=\"black\" stroke=\"black\" points=\"359.57,-374.51 364.8,-365.3 354.97,-369.23 359.57,-374.51\"/>\n</g>\n<!-- 7 -->\n<g id=\"node8\" class=\"node\">\n<title>7</title>\n<polygon fill=\"#eeab7b\" stroke=\"black\" points=\"395.5,-261 288.5,-261 288.5,-193 395.5,-193 395.5,-261\"/>\n<text text-anchor=\"middle\" x=\"342\" y=\"-245.8\" font-family=\"Helvetica,sans-Serif\" font-size=\"14.00\">Area &lt;= &#45;0.613</text>\n<text text-anchor=\"middle\" x=\"342\" y=\"-230.8\" font-family=\"Helvetica,sans-Serif\" font-size=\"14.00\">gini = 0.375</text>\n<text text-anchor=\"middle\" x=\"342\" y=\"-215.8\" font-family=\"Helvetica,sans-Serif\" font-size=\"14.00\">samples = 12</text>\n<text text-anchor=\"middle\" x=\"342\" y=\"-200.8\" font-family=\"Helvetica,sans-Serif\" font-size=\"14.00\">value = [9, 3]</text>\n</g>\n<!-- 6&#45;&gt;7 -->\n<g id=\"edge7\" class=\"edge\">\n<title>6&#45;&gt;7</title>\n<path fill=\"none\" stroke=\"black\" d=\"M383.2,-296.88C378.08,-288.33 372.51,-279.01 367.16,-270.07\"/>\n<polygon fill=\"black\" stroke=\"black\" points=\"370.05,-268.09 361.91,-261.3 364.04,-271.68 370.05,-268.09\"/>\n</g>\n<!-- 12 -->\n<g id=\"node13\" class=\"node\">\n<title>12</title>\n<polygon fill=\"#e68641\" stroke=\"black\" points=\"516,-261 414,-261 414,-193 516,-193 516,-261\"/>\n<text text-anchor=\"middle\" x=\"465\" y=\"-245.8\" font-family=\"Helvetica,sans-Serif\" font-size=\"14.00\">age &lt;= &#45;0.662</text>\n<text text-anchor=\"middle\" x=\"465\" y=\"-230.8\" font-family=\"Helvetica,sans-Serif\" font-size=\"14.00\">gini = 0.077</text>\n<text text-anchor=\"middle\" x=\"465\" y=\"-215.8\" font-family=\"Helvetica,sans-Serif\" font-size=\"14.00\">samples = 25</text>\n<text text-anchor=\"middle\" x=\"465\" y=\"-200.8\" font-family=\"Helvetica,sans-Serif\" font-size=\"14.00\">value = [24, 1]</text>\n</g>\n<!-- 6&#45;&gt;12 -->\n<g id=\"edge12\" class=\"edge\">\n<title>6&#45;&gt;12</title>\n<path fill=\"none\" stroke=\"black\" d=\"M423.13,-296.88C428.33,-288.33 433.99,-279.01 439.43,-270.07\"/>\n<polygon fill=\"black\" stroke=\"black\" points=\"442.56,-271.66 444.76,-261.3 436.57,-268.03 442.56,-271.66\"/>\n</g>\n<!-- 8 -->\n<g id=\"node9\" class=\"node\">\n<title>8</title>\n<polygon fill=\"#e58139\" stroke=\"black\" points=\"273.5,-149.5 178.5,-149.5 178.5,-96.5 273.5,-96.5 273.5,-149.5\"/>\n<text text-anchor=\"middle\" x=\"226\" y=\"-134.3\" font-family=\"Helvetica,sans-Serif\" font-size=\"14.00\">gini = 0.0</text>\n<text text-anchor=\"middle\" x=\"226\" y=\"-119.3\" font-family=\"Helvetica,sans-Serif\" font-size=\"14.00\">samples = 8</text>\n<text text-anchor=\"middle\" x=\"226\" y=\"-104.3\" font-family=\"Helvetica,sans-Serif\" font-size=\"14.00\">value = [8, 0]</text>\n</g>\n<!-- 7&#45;&gt;8 -->\n<g id=\"edge8\" class=\"edge\">\n<title>7&#45;&gt;8</title>\n<path fill=\"none\" stroke=\"black\" d=\"M304.34,-192.88C290.96,-181.12 275.92,-167.89 262.62,-156.2\"/>\n<polygon fill=\"black\" stroke=\"black\" points=\"264.84,-153.49 255.02,-149.52 260.22,-158.75 264.84,-153.49\"/>\n</g>\n<!-- 9 -->\n<g id=\"node10\" class=\"node\">\n<title>9</title>\n<polygon fill=\"#7bbeee\" stroke=\"black\" points=\"396,-157 292,-157 292,-89 396,-89 396,-157\"/>\n<text text-anchor=\"middle\" x=\"344\" y=\"-141.8\" font-family=\"Helvetica,sans-Serif\" font-size=\"14.00\">Type &lt;= 0.945</text>\n<text text-anchor=\"middle\" x=\"344\" y=\"-126.8\" font-family=\"Helvetica,sans-Serif\" font-size=\"14.00\">gini = 0.375</text>\n<text text-anchor=\"middle\" x=\"344\" y=\"-111.8\" font-family=\"Helvetica,sans-Serif\" font-size=\"14.00\">samples = 4</text>\n<text text-anchor=\"middle\" x=\"344\" y=\"-96.8\" font-family=\"Helvetica,sans-Serif\" font-size=\"14.00\">value = [1, 3]</text>\n</g>\n<!-- 7&#45;&gt;9 -->\n<g id=\"edge9\" class=\"edge\">\n<title>7&#45;&gt;9</title>\n<path fill=\"none\" stroke=\"black\" d=\"M342.65,-192.88C342.81,-184.78 342.98,-175.98 343.15,-167.47\"/>\n<polygon fill=\"black\" stroke=\"black\" points=\"346.65,-167.37 343.35,-157.3 339.65,-167.23 346.65,-167.37\"/>\n</g>\n<!-- 10 -->\n<g id=\"node11\" class=\"node\">\n<title>10</title>\n<polygon fill=\"#399de5\" stroke=\"black\" points=\"335.5,-53 240.5,-53 240.5,0 335.5,0 335.5,-53\"/>\n<text text-anchor=\"middle\" x=\"288\" y=\"-37.8\" font-family=\"Helvetica,sans-Serif\" font-size=\"14.00\">gini = 0.0</text>\n<text text-anchor=\"middle\" x=\"288\" y=\"-22.8\" font-family=\"Helvetica,sans-Serif\" font-size=\"14.00\">samples = 3</text>\n<text text-anchor=\"middle\" x=\"288\" y=\"-7.8\" font-family=\"Helvetica,sans-Serif\" font-size=\"14.00\">value = [0, 3]</text>\n</g>\n<!-- 9&#45;&gt;10 -->\n<g id=\"edge10\" class=\"edge\">\n<title>9&#45;&gt;10</title>\n<path fill=\"none\" stroke=\"black\" d=\"M324.41,-88.95C319.26,-80.26 313.7,-70.86 308.5,-62.09\"/>\n<polygon fill=\"black\" stroke=\"black\" points=\"311.36,-60.06 303.25,-53.24 305.34,-63.62 311.36,-60.06\"/>\n</g>\n<!-- 11 -->\n<g id=\"node12\" class=\"node\">\n<title>11</title>\n<polygon fill=\"#e58139\" stroke=\"black\" points=\"448.5,-53 353.5,-53 353.5,0 448.5,0 448.5,-53\"/>\n<text text-anchor=\"middle\" x=\"401\" y=\"-37.8\" font-family=\"Helvetica,sans-Serif\" font-size=\"14.00\">gini = 0.0</text>\n<text text-anchor=\"middle\" x=\"401\" y=\"-22.8\" font-family=\"Helvetica,sans-Serif\" font-size=\"14.00\">samples = 1</text>\n<text text-anchor=\"middle\" x=\"401\" y=\"-7.8\" font-family=\"Helvetica,sans-Serif\" font-size=\"14.00\">value = [1, 0]</text>\n</g>\n<!-- 9&#45;&gt;11 -->\n<g id=\"edge11\" class=\"edge\">\n<title>9&#45;&gt;11</title>\n<path fill=\"none\" stroke=\"black\" d=\"M363.94,-88.95C369.23,-80.17 374.97,-70.66 380.3,-61.82\"/>\n<polygon fill=\"black\" stroke=\"black\" points=\"383.31,-63.61 385.48,-53.24 377.31,-59.99 383.31,-63.61\"/>\n</g>\n<!-- 13 -->\n<g id=\"node14\" class=\"node\">\n<title>13</title>\n<polygon fill=\"#399de5\" stroke=\"black\" points=\"511.5,-149.5 416.5,-149.5 416.5,-96.5 511.5,-96.5 511.5,-149.5\"/>\n<text text-anchor=\"middle\" x=\"464\" y=\"-134.3\" font-family=\"Helvetica,sans-Serif\" font-size=\"14.00\">gini = 0.0</text>\n<text text-anchor=\"middle\" x=\"464\" y=\"-119.3\" font-family=\"Helvetica,sans-Serif\" font-size=\"14.00\">samples = 1</text>\n<text text-anchor=\"middle\" x=\"464\" y=\"-104.3\" font-family=\"Helvetica,sans-Serif\" font-size=\"14.00\">value = [0, 1]</text>\n</g>\n<!-- 12&#45;&gt;13 -->\n<g id=\"edge13\" class=\"edge\">\n<title>12&#45;&gt;13</title>\n<path fill=\"none\" stroke=\"black\" d=\"M464.68,-192.88C464.57,-182.33 464.46,-170.6 464.35,-159.85\"/>\n<polygon fill=\"black\" stroke=\"black\" points=\"467.85,-159.49 464.25,-149.52 460.85,-159.55 467.85,-159.49\"/>\n</g>\n<!-- 14 -->\n<g id=\"node15\" class=\"node\">\n<title>14</title>\n<polygon fill=\"#e58139\" stroke=\"black\" points=\"632,-149.5 530,-149.5 530,-96.5 632,-96.5 632,-149.5\"/>\n<text text-anchor=\"middle\" x=\"581\" y=\"-134.3\" font-family=\"Helvetica,sans-Serif\" font-size=\"14.00\">gini = 0.0</text>\n<text text-anchor=\"middle\" x=\"581\" y=\"-119.3\" font-family=\"Helvetica,sans-Serif\" font-size=\"14.00\">samples = 24</text>\n<text text-anchor=\"middle\" x=\"581\" y=\"-104.3\" font-family=\"Helvetica,sans-Serif\" font-size=\"14.00\">value = [24, 0]</text>\n</g>\n<!-- 12&#45;&gt;14 -->\n<g id=\"edge14\" class=\"edge\">\n<title>12&#45;&gt;14</title>\n<path fill=\"none\" stroke=\"black\" d=\"M502.66,-192.88C516.04,-181.12 531.08,-167.89 544.38,-156.2\"/>\n<polygon fill=\"black\" stroke=\"black\" points=\"546.78,-158.75 551.98,-149.52 542.16,-153.49 546.78,-158.75\"/>\n</g>\n</g>\n</svg>\n"
          },
          "metadata": {},
          "execution_count": 52
        }
      ]
    },
    {
      "cell_type": "markdown",
      "source": [
        "#Linear Regression"
      ],
      "metadata": {
        "id": "_Dh6An591G_V"
      }
    },
    {
      "cell_type": "code",
      "source": [
        "from sklearn.linear_model import LinearRegression,Lasso\n",
        "import datetime\n",
        "from statistics import mean\n",
        "model=LinearRegression()\n",
        "model.fit(x_train,y_train)"
      ],
      "metadata": {
        "colab": {
          "base_uri": "https://localhost:8080/"
        },
        "id": "yQ_aO9w5wS_g",
        "outputId": "abf98e1a-a3e8-4786-f6aa-acc73965acf6"
      },
      "execution_count": null,
      "outputs": [
        {
          "output_type": "execute_result",
          "data": {
            "text/plain": [
              "LinearRegression()"
            ]
          },
          "metadata": {},
          "execution_count": 53
        }
      ]
    },
    {
      "cell_type": "code",
      "source": [
        "pred=model.predict(x_test)"
      ],
      "metadata": {
        "id": "DMOiX-KaxIux"
      },
      "execution_count": null,
      "outputs": []
    },
    {
      "cell_type": "markdown",
      "source": [
        "#Variance"
      ],
      "metadata": {
        "id": "hvioPuuj1Nl9"
      }
    },
    {
      "cell_type": "code",
      "source": [
        "Variance=np.var(pred)\n",
        "Variance"
      ],
      "metadata": {
        "colab": {
          "base_uri": "https://localhost:8080/"
        },
        "id": "2bWsoSOpxP7v",
        "outputId": "9c099433-5f4d-4b1f-f4e8-5b1966334010"
      },
      "execution_count": null,
      "outputs": [
        {
          "output_type": "execute_result",
          "data": {
            "text/plain": [
              "0.1465459283649831"
            ]
          },
          "metadata": {},
          "execution_count": 55
        }
      ]
    },
    {
      "cell_type": "markdown",
      "source": [
        "#Bias"
      ],
      "metadata": {
        "id": "eTM-44Fk1Q13"
      }
    },
    {
      "cell_type": "code",
      "source": [
        "Sum_of_squared_error=np.mean((np.mean(pred)-y)**2)\n",
        "Bias=Sum_of_squared_error-Variance\n",
        "Bias"
      ],
      "metadata": {
        "colab": {
          "base_uri": "https://localhost:8080/"
        },
        "id": "eczWEmeexaDd",
        "outputId": "ddeef79d-21b3-4b2e-9fb1-5894390b9669"
      },
      "execution_count": null,
      "outputs": [
        {
          "output_type": "execute_result",
          "data": {
            "text/plain": [
              "0.113825948543465"
            ]
          },
          "metadata": {},
          "execution_count": 56
        }
      ]
    },
    {
      "cell_type": "code",
      "source": [
        "plt.scatter(Variance,Bias)\n",
        "plt.show()"
      ],
      "metadata": {
        "colab": {
          "base_uri": "https://localhost:8080/",
          "height": 268
        },
        "id": "9cxL0IG61m88",
        "outputId": "c97b55e3-df1e-4ea6-c35e-8a324dff4227"
      },
      "execution_count": null,
      "outputs": [
        {
          "output_type": "display_data",
          "data": {
            "text/plain": [
              "<Figure size 432x288 with 1 Axes>"
            ],
            "image/png": "[encoded data removed]"
          },
          "metadata": {
            "needs_background": "light"
          }
        }
      ]
    }
  ]
}